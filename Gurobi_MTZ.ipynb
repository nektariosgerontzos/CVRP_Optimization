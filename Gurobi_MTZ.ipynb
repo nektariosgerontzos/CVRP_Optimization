{
 "cells": [
  {
   "cell_type": "code",
   "execution_count": 125,
   "id": "4357981e",
   "metadata": {},
   "outputs": [],
   "source": [
    "import networkx as nx\n",
    "import random\n",
    "import tsplib95\n",
    "import math\n",
    "\n",
    "problem = tsplib95.load(r\"C:\\Users\\user\\Desktop\\programming\\B\\B-n63-k10.vrp\")\n",
    "\n",
    "k = 10     # number of vehicles\n",
    "n = problem.dimension      # number of demand points\n",
    "\n",
    "depot = 0                       \n",
    "dem_points = list(range(1,n+1)) # nodes 1, 2, ..., 20\n",
    "\n",
    "G = nx.complete_graph(n+1,nx.DiGraph()) "
   ]
  },
  {
   "cell_type": "code",
   "execution_count": 126,
   "id": "9b0dfaac",
   "metadata": {},
   "outputs": [],
   "source": [
    "my_pos = problem.node_coords # pos[i] = (x_i, y_i)\n",
    "\n",
    "# let's locate the depot in the middle\n",
    "my_pos[depot] = (0.5, 0.5)\n",
    "\n",
    "#nx.draw(G, pos=my_pos)"
   ]
  },
  {
   "cell_type": "code",
   "execution_count": 127,
   "id": "27d07d74",
   "metadata": {},
   "outputs": [
    {
     "data": {
      "text/plain": [
       "100"
      ]
     },
     "execution_count": 127,
     "metadata": {},
     "output_type": "execute_result"
    }
   ],
   "source": [
    "problem.capacity"
   ]
  },
  {
   "cell_type": "code",
   "execution_count": 128,
   "id": "e3f9b96a",
   "metadata": {},
   "outputs": [],
   "source": [
    "# for convenience, suppose that distances are Euclidean\n",
    "\n",
    "def eucl_dist(x1,y1,x2,y2):\n",
    "    return math.sqrt( (x1-x2)**2 + (y1-y2)**2 )\n",
    "\n",
    "for i,j in G.edges:\n",
    "    (x1,y1) = my_pos[i]\n",
    "    (x2,y2) = my_pos[j]\n",
    "    G.edges[i,j]['length'] = eucl_dist(x1,y1,x2,y2)"
   ]
  },
  {
   "cell_type": "code",
   "execution_count": 129,
   "id": "cbe544b4",
   "metadata": {},
   "outputs": [],
   "source": [
    "# suppose each vehicle has capacity 100\n",
    "Q = problem.capacity\n",
    "\n",
    "# suppose each demand point has demand 20\n",
    "q = problem.demands"
   ]
  },
  {
   "cell_type": "code",
   "execution_count": 130,
   "id": "b15d063c",
   "metadata": {},
   "outputs": [],
   "source": [
    "import gurobipy as gp\n",
    "from gurobipy import GRB"
   ]
  },
  {
   "cell_type": "code",
   "execution_count": 131,
   "id": "03f1699e",
   "metadata": {},
   "outputs": [
    {
     "name": "stdout",
     "output_type": "stream",
     "text": [
      "Gurobi Optimizer version 10.0.1 build v10.0.1rc0 (win64)\n",
      "\n",
      "CPU model: Intel(R) Core(TM) i5-5200U CPU @ 2.20GHz, instruction set [SSE2|AVX|AVX2]\n",
      "Thread count: 2 physical cores, 4 logical processors, using up to 4 threads\n",
      "\n",
      "Optimize a model with 127 rows, 4032 columns and 8001 nonzeros\n",
      "Model fingerprint: 0x88f0eb99\n",
      "Variable types: 0 continuous, 4032 integer (4032 binary)\n",
      "Coefficient statistics:\n",
      "  Matrix range     [1e+00, 1e+00]\n",
      "  Objective range  [1e+00, 1e+02]\n",
      "  Bounds range     [1e+00, 1e+00]\n",
      "  RHS range        [1e+00, 1e+01]\n",
      "Found heuristic solution: objective 4220.6147063\n",
      "Presolve time: 0.04s\n",
      "Presolved: 127 rows, 4032 columns, 8001 nonzeros\n",
      "Variable types: 0 continuous, 4032 integer (4032 binary)\n",
      "\n",
      "Root relaxation: objective 6.330179e+02, 183 iterations, 0.00 seconds (0.00 work units)\n",
      "\n",
      "    Nodes    |    Current Node    |     Objective Bounds      |     Work\n",
      " Expl Unexpl |  Obj  Depth IntInf | Incumbent    BestBd   Gap | It/Node Time\n",
      "\n",
      "*    0     0               0     633.0178923  633.01789  0.00%     -    0s\n",
      "\n",
      "Explored 1 nodes (183 simplex iterations) in 0.08 seconds (0.01 work units)\n",
      "Thread count was 4 (of 4 available processors)\n",
      "\n",
      "Solution count 2: 633.018 4220.61 \n",
      "\n",
      "Optimal solution found (tolerance 1.00e-04)\n",
      "Best objective 6.330178923137e+02, best bound 6.330178923137e+02, gap 0.0000%\n"
     ]
    }
   ],
   "source": [
    "# First, solve a relaxation\n",
    "\n",
    "m = gp.Model()\n",
    "x = m.addVars(G.edges,vtype=GRB.BINARY)\n",
    "\n",
    "m.setObjective( gp.quicksum( G.edges[i,j]['length']* x[i,j] for i,j in G.edges ), GRB.MINIMIZE )\n",
    "\n",
    "# Enter each demand point once\n",
    "m.addConstrs( gp.quicksum( x[i,j] for i in G.predecessors(j) ) == 1 for j in dem_points )\n",
    "\n",
    "# Leave each demand point once\n",
    "m.addConstrs( gp.quicksum( x[i,j] for j in G.successors(i) ) == 1 for i in dem_points )\n",
    "\n",
    "# Leave the depot k times\n",
    "m.addConstr( gp.quicksum( x[depot,j] for j in G.successors(depot) ) == k )\n",
    "\n",
    "m.optimize()"
   ]
  },
  {
   "cell_type": "code",
   "execution_count": 132,
   "id": "037d36bc",
   "metadata": {},
   "outputs": [
    {
     "data": {
      "image/png": "[encoded data removed]",
      "text/plain": [
       "<Figure size 640x480 with 1 Axes>"
      ]
     },
     "metadata": {},
     "output_type": "display_data"
    }
   ],
   "source": [
    "# get the solution and draw it\n",
    "tour_edges = [ e for e in G.edges if x[e].x > 0.5 ]\n",
    "nx.draw(G.edge_subgraph(tour_edges), pos=my_pos)"
   ]
  },
  {
   "cell_type": "code",
   "execution_count": 133,
   "id": "d4472e9b",
   "metadata": {},
   "outputs": [
    {
     "name": "stdout",
     "output_type": "stream",
     "text": [
      "Set parameter TimeLimit to value 120\n",
      "Gurobi Optimizer version 10.0.1 build v10.0.1rc0 (win64)\n",
      "\n",
      "CPU model: Intel(R) Core(TM) i5-5200U CPU @ 2.20GHz, instruction set [SSE2|AVX|AVX2]\n",
      "Thread count: 2 physical cores, 4 logical processors, using up to 4 threads\n",
      "\n",
      "Optimize a model with 4096 rows, 4096 columns and 19908 nonzeros\n",
      "Model fingerprint: 0xfeb4d861\n",
      "Variable types: 64 continuous, 4032 integer (4032 binary)\n",
      "Coefficient statistics:\n",
      "  Matrix range     [1e+00, 1e+02]\n",
      "  Objective range  [1e+00, 1e+02]\n",
      "  Bounds range     [1e+00, 1e+02]\n",
      "  RHS range        [1e+00, 1e+02]\n",
      "\n",
      "MIP start from previous solve did not produce a new incumbent solution\n",
      "\n",
      "Presolve removed 63 rows and 1 columns\n",
      "Presolve time: 0.06s\n",
      "Presolved: 4033 rows, 4095 columns, 19719 nonzeros\n",
      "Variable types: 63 continuous, 4032 integer (4032 binary)\n",
      "\n",
      "Root relaxation: objective 6.475135e+02, 352 iterations, 0.02 seconds (0.01 work units)\n",
      "\n",
      "    Nodes    |    Current Node    |     Objective Bounds      |     Work\n",
      " Expl Unexpl |  Obj  Depth IntInf | Incumbent    BestBd   Gap | It/Node Time\n",
      "\n",
      "     0     0  647.51351    0   81          -  647.51351      -     -    0s\n",
      "     0     0  697.33047    0  115          -  697.33047      -     -    0s\n",
      "     0     0  697.64029    0  116          -  697.64029      -     -    0s\n",
      "     0     0  697.64029    0  116          -  697.64029      -     -    0s\n",
      "     0     0  724.05444    0  102          -  724.05444      -     -    0s\n",
      "     0     0  724.05444    0  107          -  724.05444      -     -    0s\n",
      "     0     0  724.07805    0  109          -  724.07805      -     -    0s\n",
      "     0     0  724.07998    0  109          -  724.07998      -     -    0s\n",
      "     0     0  724.17320    0  109          -  724.17320      -     -    0s\n",
      "     0     0  724.17320    0   99          -  724.17320      -     -    0s\n",
      "H    0     0                    1836.0980076  724.17320  60.6%     -    1s\n",
      "H    0     2                    1825.5927953  724.75616  60.3%     -    2s\n",
      "     0     2  724.75616    0   99 1825.59280  724.75616  60.3%     -    2s\n",
      "H   29    31                    1820.4769237  727.01867  60.1%  15.0    3s\n",
      "   353   374  946.97279  148   86 1820.47692  727.01867  60.1%  19.2    5s\n",
      "H  544   546                    1814.4015612  727.01867  59.9%  18.8    7s\n",
      "H  545   546                    1808.7307123  727.01867  59.8%  18.8    7s\n",
      "  1266  1319 1678.17222  517   49 1808.73071  727.01867  59.8%  16.2   10s\n",
      "  1476  1458  770.18030   28   83 1808.73071  727.61047  59.8%  16.2   15s\n",
      "  1477  1459 1005.38823  159  109 1808.73071  727.61047  59.8%  16.2   20s\n",
      "H 1482  1388                    1755.7379408  730.30321  58.4%  16.2   23s\n",
      "  1488  1392 1052.28923  204  116 1755.73794  731.97155  58.3%  16.1   25s\n",
      "  1523  1420  737.38957   16  106 1755.73794  732.19788  58.3%  17.3   30s\n",
      "  1673  1520  779.33267   54   96 1755.73794  732.19788  58.3%  19.0   35s\n",
      "H 1714  1479                    1755.4341127  732.19788  58.3%  20.0   36s\n",
      "H 1744  1432                    1750.0610287  732.19788  58.2%  20.8   36s\n",
      "H 1789  1393                    1749.3547078  732.19788  58.1%  22.1   39s\n",
      "H 1790  1333                    1742.1862100  732.19788  58.0%  22.2   39s\n",
      "H 1791  1277                    1736.7450210  732.19788  57.8%  22.3   41s\n",
      "H 1792  1222                    1736.5893515  732.19788  57.8%  22.3   41s\n",
      "  1927  1331  901.73873  120  101 1736.58935  732.19788  57.8%  26.0   45s\n",
      "  2144  1487  994.30577  167  100 1736.58935  732.19788  57.8%  30.2   50s\n",
      "  2440  1690 1124.99130  239   86 1736.58935  732.19788  57.8%  36.4   55s\n",
      "  2742  1846 1236.74713  311   81 1736.58935  732.19788  57.8%  40.5   64s\n",
      "H 2744  1797                    1719.5097695  732.19788  57.4%  40.5   67s\n",
      "H 2745  1746                    1718.6584196  732.19788  57.4%  40.5   67s\n",
      "  2902  1916 1251.30770  345   81 1718.65842  732.19788  57.4%  42.3   70s\n",
      "  3312  2118 1370.11471  422   71 1718.65842  732.19788  57.4%  44.9   76s\n",
      "  3451  2240 1492.43709  448   57 1718.65842  732.19788  57.4%  45.6   80s\n",
      "H 3804  2251                    1716.3570859  732.39664  57.3%  46.9   85s\n",
      "  4070  2517  884.70737  136   94 1716.35709  732.39664  57.3%  46.9   90s\n",
      "H 4290  2610                    1715.7382947  732.39664  57.3%  47.2   96s\n",
      "H 4292  2609                    1707.3677069  732.39664  57.1%  47.2   98s\n",
      "  4297  2791  984.05009  242   97 1707.36771  732.39664  57.1%  47.2  100s\n",
      "  4844  3286 1516.86338  471   75 1707.36771  732.39664  57.1%  47.8  113s\n",
      "H 4994  3281                    1699.3240384  732.39664  56.9%  48.0  113s\n",
      "  4995  3402 1559.03108  515   84 1699.32404  732.39664  56.9%  48.0  116s\n",
      "  5534  3923  848.15042  112  101 1699.32404  732.52933  56.9%  46.4  120s\n",
      "\n",
      "Cutting planes:\n",
      "  Learned: 11\n",
      "  Gomory: 47\n",
      "  Implied bound: 4\n",
      "  Projected implied bound: 5\n",
      "  Clique: 2\n",
      "  MIR: 8\n",
      "  StrongCG: 1\n",
      "  Flow cover: 4\n",
      "  Zero half: 2\n",
      "  RLT: 1\n",
      "  Relax-and-lift: 6\n",
      "\n",
      "Explored 5695 nodes (264973 simplex iterations) in 120.04 seconds (133.89 work units)\n",
      "Thread count was 4 (of 4 available processors)\n",
      "\n",
      "Solution count 10: 1699.32 1707.37 1715.74 ... 1749.35\n",
      "\n",
      "Time limit reached\n",
      "Best objective 1.699324038401e+03, best bound 7.325293302447e+02, gap 56.8929%\n"
     ]
    }
   ],
   "source": [
    "# Add the MTZ variables and constraints, and solve\n",
    "u = m.addVars( G.nodes )\n",
    "\n",
    "u[depot].LB = 0\n",
    "u[depot].UB = 0\n",
    "\n",
    "for i in dem_points:\n",
    "    u[i].LB = q[i]\n",
    "    u[i].UB = Q\n",
    "\n",
    "c = m.addConstrs( u[i] - u[j] + Q * x[i,j] <= Q - q[j] for i,j in G.edges if j != depot )\n",
    "\n",
    "m.Params.TimeLimit = 120\n",
    "m.optimize()"
   ]
  },
  {
   "cell_type": "code",
   "execution_count": 68,
   "id": "002e82aa",
   "metadata": {},
   "outputs": [],
   "source": [
    "# Try again, using stronger (\"lifted\") version of these constraints\n",
    "\n",
    "#m.remove(c)  # remove the previous MTZ constraints\n",
    "#q[depot] = 0\n",
    "#m.addConstrs( u[i] - u[j] + Q * x[i,j] + ( Q - q[i] - q[j] ) * x[j,i] <= Q - q[j] for i,j in G.edges if j != depot )\n",
    "\n",
    "#m.reset()    # start solve process from scratch\n",
    "#m.optimize()"
   ]
  },
  {
   "cell_type": "code",
   "execution_count": 69,
   "id": "a17da199",
   "metadata": {},
   "outputs": [
    {
     "ename": "AttributeError",
     "evalue": "Unable to retrieve attribute 'x'",
     "output_type": "error",
     "traceback": [
      "\u001b[1;31m---------------------------------------------------------------------------\u001b[0m",
      "\u001b[1;31mAttributeError\u001b[0m                            Traceback (most recent call last)",
      "\u001b[1;32m~\\AppData\\Local\\Temp\\ipykernel_14180\\2982580219.py\u001b[0m in \u001b[0;36m<module>\u001b[1;34m\u001b[0m\n\u001b[0;32m      1\u001b[0m \u001b[1;31m# get the solution and draw it\u001b[0m\u001b[1;33m\u001b[0m\u001b[1;33m\u001b[0m\u001b[0m\n\u001b[1;32m----> 2\u001b[1;33m \u001b[0mtour_edges\u001b[0m \u001b[1;33m=\u001b[0m \u001b[1;33m[\u001b[0m \u001b[0me\u001b[0m \u001b[1;32mfor\u001b[0m \u001b[0me\u001b[0m \u001b[1;32min\u001b[0m \u001b[0mG\u001b[0m\u001b[1;33m.\u001b[0m\u001b[0medges\u001b[0m \u001b[1;32mif\u001b[0m \u001b[0mx\u001b[0m\u001b[1;33m[\u001b[0m\u001b[0me\u001b[0m\u001b[1;33m]\u001b[0m\u001b[1;33m.\u001b[0m\u001b[0mx\u001b[0m \u001b[1;33m>\u001b[0m \u001b[1;36m0.5\u001b[0m \u001b[1;33m]\u001b[0m\u001b[1;33m\u001b[0m\u001b[1;33m\u001b[0m\u001b[0m\n\u001b[0m\u001b[0;32m      3\u001b[0m \u001b[0mnx\u001b[0m\u001b[1;33m.\u001b[0m\u001b[0mdraw\u001b[0m\u001b[1;33m(\u001b[0m\u001b[0mG\u001b[0m\u001b[1;33m.\u001b[0m\u001b[0medge_subgraph\u001b[0m\u001b[1;33m(\u001b[0m\u001b[0mtour_edges\u001b[0m\u001b[1;33m)\u001b[0m\u001b[1;33m,\u001b[0m \u001b[0mpos\u001b[0m\u001b[1;33m=\u001b[0m\u001b[0mmy_pos\u001b[0m\u001b[1;33m)\u001b[0m\u001b[1;33m\u001b[0m\u001b[1;33m\u001b[0m\u001b[0m\n",
      "\u001b[1;32m~\\AppData\\Local\\Temp\\ipykernel_14180\\2982580219.py\u001b[0m in \u001b[0;36m<listcomp>\u001b[1;34m(.0)\u001b[0m\n\u001b[0;32m      1\u001b[0m \u001b[1;31m# get the solution and draw it\u001b[0m\u001b[1;33m\u001b[0m\u001b[1;33m\u001b[0m\u001b[0m\n\u001b[1;32m----> 2\u001b[1;33m \u001b[0mtour_edges\u001b[0m \u001b[1;33m=\u001b[0m \u001b[1;33m[\u001b[0m \u001b[0me\u001b[0m \u001b[1;32mfor\u001b[0m \u001b[0me\u001b[0m \u001b[1;32min\u001b[0m \u001b[0mG\u001b[0m\u001b[1;33m.\u001b[0m\u001b[0medges\u001b[0m \u001b[1;32mif\u001b[0m \u001b[0mx\u001b[0m\u001b[1;33m[\u001b[0m\u001b[0me\u001b[0m\u001b[1;33m]\u001b[0m\u001b[1;33m.\u001b[0m\u001b[0mx\u001b[0m \u001b[1;33m>\u001b[0m \u001b[1;36m0.5\u001b[0m \u001b[1;33m]\u001b[0m\u001b[1;33m\u001b[0m\u001b[1;33m\u001b[0m\u001b[0m\n\u001b[0m\u001b[0;32m      3\u001b[0m \u001b[0mnx\u001b[0m\u001b[1;33m.\u001b[0m\u001b[0mdraw\u001b[0m\u001b[1;33m(\u001b[0m\u001b[0mG\u001b[0m\u001b[1;33m.\u001b[0m\u001b[0medge_subgraph\u001b[0m\u001b[1;33m(\u001b[0m\u001b[0mtour_edges\u001b[0m\u001b[1;33m)\u001b[0m\u001b[1;33m,\u001b[0m \u001b[0mpos\u001b[0m\u001b[1;33m=\u001b[0m\u001b[0mmy_pos\u001b[0m\u001b[1;33m)\u001b[0m\u001b[1;33m\u001b[0m\u001b[1;33m\u001b[0m\u001b[0m\n",
      "\u001b[1;32msrc\\gurobipy\\var.pxi\u001b[0m in \u001b[0;36mgurobipy.Var.__getattr__\u001b[1;34m()\u001b[0m\n",
      "\u001b[1;32msrc\\gurobipy\\var.pxi\u001b[0m in \u001b[0;36mgurobipy.Var.getAttr\u001b[1;34m()\u001b[0m\n",
      "\u001b[1;32msrc\\gurobipy\\attrutil.pxi\u001b[0m in \u001b[0;36mgurobipy.__getattr\u001b[1;34m()\u001b[0m\n",
      "\u001b[1;31mAttributeError\u001b[0m: Unable to retrieve attribute 'x'"
     ]
    }
   ],
   "source": [
    "# get the solution and draw it\n",
    "tour_edges = [ e for e in G.edges if x[e].x > 0.5 ]\n",
    "nx.draw(G.edge_subgraph(tour_edges), pos=my_pos)"
   ]
  },
  {
   "cell_type": "code",
   "execution_count": null,
   "id": "0b923c0f",
   "metadata": {},
   "outputs": [],
   "source": []
  }
 ],
 "metadata": {
  "kernelspec": {
   "display_name": "Python 3 (ipykernel)",
   "language": "python",
   "name": "python3"
  },
  "language_info": {
   "codemirror_mode": {
    "name": "ipython",
    "version": 3
   },
   "file_extension": ".py",
   "mimetype": "text/x-python",
   "name": "python",
   "nbconvert_exporter": "python",
   "pygments_lexer": "ipython3",
   "version": "3.9.13"
  }
 },
 "nbformat": 4,
 "nbformat_minor": 5
}
