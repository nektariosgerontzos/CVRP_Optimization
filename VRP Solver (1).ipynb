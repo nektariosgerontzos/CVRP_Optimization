{
 "cells": [
  {
   "cell_type": "code",
   "execution_count": 2,
   "id": "d0a75eff",
   "metadata": {},
   "outputs": [
    {
     "ename": "ModuleNotFoundError",
     "evalue": "No module named 'networkx'",
     "output_type": "error",
     "traceback": [
      "\u001b[1;31m---------------------------------------------------------------------------\u001b[0m",
      "\u001b[1;31mModuleNotFoundError\u001b[0m                       Traceback (most recent call last)",
      "\u001b[1;32mc:\\Users\\nekog\\OneDrive\\Υπολογιστής\\SOURCE_CODE\\VRP Solver (1).ipynb Cell 1\u001b[0m line \u001b[0;36m3\n\u001b[0;32m      <a href='vscode-notebook-cell:/c%3A/Users/nekog/OneDrive/%CE%A5%CF%80%CE%BF%CE%BB%CE%BF%CE%B3%CE%B9%CF%83%CF%84%CE%AE%CF%82/SOURCE_CODE/VRP%20Solver%20%281%29.ipynb#W0sZmlsZQ%3D%3D?line=0'>1</a>\u001b[0m \u001b[39mimport\u001b[39;00m \u001b[39mnumpy\u001b[39;00m \u001b[39mas\u001b[39;00m \u001b[39mnp\u001b[39;00m\n\u001b[0;32m      <a href='vscode-notebook-cell:/c%3A/Users/nekog/OneDrive/%CE%A5%CF%80%CE%BF%CE%BB%CE%BF%CE%B3%CE%B9%CF%83%CF%84%CE%AE%CF%82/SOURCE_CODE/VRP%20Solver%20%281%29.ipynb#W0sZmlsZQ%3D%3D?line=1'>2</a>\u001b[0m \u001b[39m#from scipy.spatial import distance_matrix\u001b[39;00m\n\u001b[1;32m----> <a href='vscode-notebook-cell:/c%3A/Users/nekog/OneDrive/%CE%A5%CF%80%CE%BF%CE%BB%CE%BF%CE%B3%CE%B9%CF%83%CF%84%CE%AE%CF%82/SOURCE_CODE/VRP%20Solver%20%281%29.ipynb#W0sZmlsZQ%3D%3D?line=2'>3</a>\u001b[0m \u001b[39mfrom\u001b[39;00m \u001b[39mnetworkx\u001b[39;00m \u001b[39mimport\u001b[39;00m DiGraph, from_numpy_matrix, relabel_nodes, set_node_attributes\n\u001b[0;32m      <a href='vscode-notebook-cell:/c%3A/Users/nekog/OneDrive/%CE%A5%CF%80%CE%BF%CE%BB%CE%BF%CE%B3%CE%B9%CF%83%CF%84%CE%AE%CF%82/SOURCE_CODE/VRP%20Solver%20%281%29.ipynb#W0sZmlsZQ%3D%3D?line=3'>4</a>\u001b[0m \u001b[39mimport\u001b[39;00m \u001b[39mnetworkx\u001b[39;00m \u001b[39mas\u001b[39;00m \u001b[39mnx\u001b[39;00m\n\u001b[0;32m      <a href='vscode-notebook-cell:/c%3A/Users/nekog/OneDrive/%CE%A5%CF%80%CE%BF%CE%BB%CE%BF%CE%B3%CE%B9%CF%83%CF%84%CE%AE%CF%82/SOURCE_CODE/VRP%20Solver%20%281%29.ipynb#W0sZmlsZQ%3D%3D?line=4'>5</a>\u001b[0m \u001b[39mfrom\u001b[39;00m \u001b[39mnumpy\u001b[39;00m \u001b[39mimport\u001b[39;00m array\n",
      "\u001b[1;31mModuleNotFoundError\u001b[0m: No module named 'networkx'"
     ]
    }
   ],
   "source": [
    "import numpy as np\n",
    "#from scipy.spatial import distance_matrix\n",
    "from networkx import DiGraph, from_numpy_matrix, relabel_nodes, set_node_attributes\n",
    "import networkx as nx\n",
    "from numpy import array\n",
    "from vrpy import VehicleRoutingProblem\n",
    "import tsplib95\n",
    "import math\n",
    "#from scipy.spatial import distance_matrix"
   ]
  },
  {
   "cell_type": "code",
   "execution_count": 110,
   "id": "2ad3fefc",
   "metadata": {},
   "outputs": [],
   "source": [
    "problem = tsplib95.load(r\"C:\\Users\\Nekos\\Desktop\\UOM\\PTYXIAKI\\data\\B\\B-n63-k10.vrp\")\n",
    "G = DiGraph()"
   ]
  },
  {
   "cell_type": "code",
   "execution_count": 111,
   "id": "6cc71ed6",
   "metadata": {
    "scrolled": true
   },
   "outputs": [],
   "source": [
    "# Initialize the distance matrix\n",
    "n = len(problem.node_coords)\n",
    "distances = [[0] * n for i in range(n)]\n",
    "\n",
    "# Calculate the Euclidean distance between each pair of nodes\n",
    "nx.set_node_attributes(G, {0: {\"source\": True}})   #Depot 0 is Source and Sink as well.\n",
    "nx.set_node_attributes(G, {0: {\"sink\": True}})\n",
    "for i in problem.node_coords:\n",
    "    for j in problem.node_coords:\n",
    "        xi, yi = problem.node_coords[i]\n",
    "        xj, yj = problem.node_coords[j]\n",
    "        distances[i - 1][j - 1] =int(math.sqrt((xi - xj) ** 2 + (yi - yj) ** 2))"
   ]
  },
  {
   "cell_type": "code",
   "execution_count": 112,
   "id": "50032d31",
   "metadata": {},
   "outputs": [],
   "source": [
    "for i in range(1,problem.dimension): \n",
    "    G.add_edge(\"Source\", i, cost= distances[0][i])\n",
    "    G.add_edge(i, \"Sink\", cost=distances[i][1])"
   ]
  },
  {
   "cell_type": "code",
   "execution_count": 113,
   "id": "0b076df6",
   "metadata": {},
   "outputs": [],
   "source": [
    "for i in range(1,len(problem.node_coords)):\n",
    "    for j in range(1, len(problem.node_coords)):\n",
    "        G.add_edge(i, j, cost = distances[i][j])"
   ]
  },
  {
   "cell_type": "code",
   "execution_count": 114,
   "id": "0d927e27",
   "metadata": {},
   "outputs": [],
   "source": [
    "for i in range(0,problem.dimension-1):\n",
    "    G.nodes[i+1][\"demand\"] = problem.demands[i+1]"
   ]
  },
  {
   "cell_type": "code",
   "execution_count": 115,
   "id": "9c178c02",
   "metadata": {},
   "outputs": [],
   "source": [
    "prob = VehicleRoutingProblem(G, load_capacity=problem.capacity)"
   ]
  },
  {
   "cell_type": "code",
   "execution_count": 1,
   "id": "99b262f0",
   "metadata": {},
   "outputs": [],
   "source": [
    "prob.solve()"
   ]
  },
  {
   "cell_type": "code",
   "execution_count": null,
   "id": "1638f767",
   "metadata": {},
   "outputs": [],
   "source": []
  }
 ],
 "metadata": {
  "kernelspec": {
   "display_name": "Python 3 (ipykernel)",
   "language": "python",
   "name": "python3"
  },
  "language_info": {
   "codemirror_mode": {
    "name": "ipython",
    "version": 3
   },
   "file_extension": ".py",
   "mimetype": "text/x-python",
   "name": "python",
   "nbconvert_exporter": "python",
   "pygments_lexer": "ipython3",
   "version": "3.11.5"
  }
 },
 "nbformat": 4,
 "nbformat_minor": 5
}
